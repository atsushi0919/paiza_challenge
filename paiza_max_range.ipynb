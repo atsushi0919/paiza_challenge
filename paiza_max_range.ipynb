{
 "cells": [
  {
   "cell_type": "markdown",
   "metadata": {},
   "source": [
    "# paiza 練習問題提出までの流れについて\n",
    "## [日別訪問者数の最大平均区間(Bランク相当)](https://paiza.jp/works/mondai/skillcheck_archive/max_range)を解いてみよう！\n",
    "\n",
    "### 1. まずは問題文を読む\n",
    "\n",
    "あなたは、とあるウェブサイトを管理していました。\n",
    "\n",
    "ある連続したk日間、このウェブサイトでキャンペーンを行ったのですが、いつからいつまでの期間に行ったかを忘れてしまいました。\n",
    "\n",
    "幸い、ウェブサイトを運営していた全n日分のアクセスログが残っており、1日ごとの訪問者数が分かっています。\n",
    "\n",
    "とりあえず、連続するk日の中で、1日あたりの平均訪問者数が最も多い期間を、キャンペーンを行った期間の候補だと考えることにしました。\n",
    "\n",
    "n日分の訪問者数のリストとキャンペーンの日数kが入力されるので、キャンペーンを行った期間の候補数と、候補の中で最も早い開始日を出力してください。\n",
    "\n",
    "#### 条件1\n",
    "入力される値\n",
    "入力は2行から成ります。\n",
    "\n",
    "1行目にはnとkが半角スペース区切りで入力されます。\n",
    "2行目にはn個の整数a_1, a_2, …, a_nが半角スペース区切りで入力されます。a_iはi日目の訪問者数を表します。\n",
    "入力値最終行の末尾に改行が１つ入ります。\n",
    "\n",
    "#### 条件2\n",
    "全てのテストケースにおいて、以下の条件を満たします。\n",
    "\n",
    "- 1 ≦ n ≦ 1,000    (アクセスログ)\n",
    "- 1 ≦ k ≦ n        (キャンペーン日数)\n",
    "- 0 ≦ a_i ≦ 100    (1日の訪問者数)\n",
    "\n",
    "#### 入力例と出力例\n",
    "\n",
    "入力例1\n",
    "\n",
    "```5 3```\n",
    "\n",
    "```1 2 3 2 1```\n",
    "\n",
    "出力例1\n",
    "\n",
    "```1 2```\n",
    "\n",
    "入力例2\n",
    "\n",
    "```10 2```\n",
    "\n",
    "```6 2 0 7 1 3 5 3 2 6```\n",
    "    \n",
    "出力例2\n",
    "\n",
    "```5 1```"
   ]
  },
  {
   "cell_type": "markdown",
   "metadata": {},
   "source": [
    "### 2. 何を答えれば（計算すれば）良いのかを整理する\n",
    "\n",
    "1. n 日分の訪問者ログ(a_1 ... a_n)の中から 連続した k の平均が最大になる区間の数（候補数）\n",
    "2. 候補の中で一番早い開始日"
   ]
  },
  {
   "cell_type": "markdown",
   "metadata": {},
   "source": [
    "### 3. 入力されるデータ構造を整理してみる\n",
    "\n",
    "- n と k はそれぞれ整数型\n",
    "- a_1, a_2, …, a_n は 整数型を格納した配列型"
   ]
  },
  {
   "cell_type": "markdown",
   "metadata": {},
   "source": [
    "### 4. データ処理を考えてみる\n",
    "\n",
    "初日 から k日分 の平均を求め、それをスライドさせて行けば良いのでは？\n",
    "\n",
    "（ノートにデータの流れを書いてみるのも良いと思います。）\n",
    "\n",
    "---\n",
    "\n",
    "#### 入力1　（ログ 5日、 キャンペーン3日）\n",
    "\n",
    "|入力1|day1|day2|day3|day4|day5|\n",
    "|:--:|:--:|:--:|:--:|:--:|:--:|\n",
    "|訪問者|1|2|3|2|1|\n",
    "|平均値|2.0|2.3|2.0|---|---|\n",
    "\n",
    "入力1のログは n=5 日分、キャンペーンは k=3 日 なので\n",
    "\n",
    "平均値の最大は 2.333333…\n",
    "\n",
    "候補は 1 個\n",
    "\n",
    "開始日は 2 日目\n",
    "\n",
    "答え 候補数 1, 開始日 2\n",
    "\n",
    "---\n",
    "\n",
    "#### 入力2　（ログ 10日、 キャンペーン2日）\n",
    "\n",
    "|入力2|day1|day2|day3|day4|day5|day6|day7|day8|day9|day10|\n",
    "|:--:|:--:|:--:|:--:|:--:|:--:|:--:|:--:|:--:|:--:|:--:|\n",
    "|訪問者|6|2|0|7|1|3|5|3|2|6|\n",
    "|平均値|4.0|1.0|3.5|4.0|2.0|4.0|4.0|2.5|4.0|---|\n",
    "\n",
    "入力2のログは n=10 日分、キャンペーンは k=2 日 なので\n",
    "\n",
    "平均値の最大は 4.0\n",
    "\n",
    "候補は 5 個\n",
    "\n",
    "最初の開始日は 1 日目\n",
    "\n",
    "答え 候補数 5, 開始日 1"
   ]
  },
  {
   "cell_type": "markdown",
   "metadata": {},
   "source": [
    "### 5. データ構造とデータ処理（アルゴリズム）をRubyで実装する\n",
    "\n",
    "プログラミングしなくても、とりあえず解けちゃいました。\n",
    "\n",
    "条件2の範囲で色々な数値が入りますので、それらに対応できるコードを書いていきましょう！\n",
    "\n",
    "ここまでの考え方が間違っていなければ、どんなプログラミング言語でも実装出来るはず！！"
   ]
  },
  {
   "cell_type": "markdown",
   "metadata": {},
   "source": [
    "### 6. 入力データ受け取り\n",
    "\n",
    "2行でスペース区切りの文字列データが与えられますので受け取っていきます。\n",
    "\n",
    "#### 1行目のデータ\n",
    "\n",
    "1行目の入力データは  ```\"5 3\\n\"``` です。\n",
    "\n",
    "5 がログの件数、 3 がキャンペーン日数なので\n",
    "\n",
    "```ruby\n",
    "raw_input = gets.chomp.split(\" \")  # raw_input = [\"5\", \"3\"]\n",
    "log_count = raw_input[0].to_i         # log_count = 5\n",
    "campaign_days = raw_input[1].to_i     # campaign_days = 3\n",
    "```\n",
    "\n",
    "これで、 ```log_count = 5```, ```campaign_days = 3``` が受け取れました。\n",
    "\n",
    "(今回の場合、```chomp```, ```split``` の引数```(\" \")``` は省略可能でしたが、基本形の説明のため入れています)\n",
    "\n",
    "#### 2行目のデータ\n",
    "\n",
    "2行目の入力データは  ```\"1 2 3 2 1\\n\"``` です。これを配列にしたいので、\n",
    "\n",
    "```ruby\n",
    "visitor_count = gets.chomp.split(\" \").map(&:to_i)\n",
    "```\n",
    "\n",
    "これで、```visitor_count = [1, 2, 3, 2, 1]``` が受け取れました。\n",
    "\n",
    "省略出来るところを省略すればもう少し短く書けます。\n",
    "\n",
    "```ruby\n",
    "log_count, campaign_days = gets.split.map(&:to_i)  # log_count, campaign_days = [5, 3]\n",
    "visitor_count = gets.split.map(&:to_i)             # visitor_count = [1, 2, 3, 2, 1]\n",
    "```\n",
    "\n",
    "動作確認してみます。（```gets``` メソッドの代わりにデータを直接入力します。）"
   ]
  },
  {
   "cell_type": "code",
   "execution_count": 1,
   "metadata": {},
   "outputs": [
    {
     "name": "stdout",
     "output_type": "stream",
     "text": [
      "log_count = 5\n",
      "campaign_days = 3\n",
      "visitor_count = [1, 2, 3, 2, 1]\n"
     ]
    }
   ],
   "source": [
    "# 省略なし\n",
    "\n",
    "# getsメソッドの代わり\n",
    "input_data1 = \"5 3\\n\"\n",
    "input_data2 = \"1 2 3 2 1\\n\"\n",
    "\n",
    "# データ入力\n",
    "raw_input = input_data1.chomp.split(\" \")\n",
    "log_count = raw_input[0].to_i\n",
    "campaign_days = raw_input[1].to_i\n",
    "visitor_count = input_data2.split(\" \").map(&:to_i)\n",
    "\n",
    "puts \"log_count = #{log_count}\"\n",
    "puts \"campaign_days = #{campaign_days}\"\n",
    "puts \"visitor_count = #{visitor_count}\""
   ]
  },
  {
   "cell_type": "code",
   "execution_count": 2,
   "metadata": {},
   "outputs": [
    {
     "name": "stdout",
     "output_type": "stream",
     "text": [
      "log_count = 5\n",
      "campaign_days = 3\n",
      "visitor_count = [1, 2, 3, 2, 1]\n"
     ]
    }
   ],
   "source": [
    "# 省略あり\n",
    "\n",
    "# getsメソッドの代わり\n",
    "input_data1 = \"5 3\\n\"\n",
    "input_data2 = \"1 2 3 2 1\\n\"\n",
    "\n",
    "# データ入力\n",
    "log_count, campaign_days = input_data1.split.map(&:to_i)\n",
    "visitor_count = input_data2.split.map(&:to_i)\n",
    "\n",
    "puts \"log_count = #{log_count}\"\n",
    "puts \"campaign_days = #{campaign_days}\"\n",
    "puts \"visitor_count = #{visitor_count}\""
   ]
  },
  {
   "cell_type": "markdown",
   "metadata": {},
   "source": [
    "### 7. データ処理の実装\n",
    "\n",
    "データ処理部分をコーディングし、問題文で提示されている入力値を色々変えてみて動作確認します。\n",
    "\n",
    "(変数名が変だったりするのはゆるして… orz)"
   ]
  },
  {
   "cell_type": "code",
   "execution_count": 3,
   "metadata": {},
   "outputs": [
    {
     "name": "stdout",
     "output_type": "stream",
     "text": [
      "1 2\n",
      "--- input\n",
      "ログの数       : 5\n",
      "キャンペーン日数 : 3\n",
      "来客数         : [1, 2, 3, 2, 1]\n",
      "--- output\n",
      "区間平均人数    : [2.0, 2.3333333333333335, 2.0]\n",
      "最大平均       : 2.3333333333333335\n",
      "最大平均の数    : 1\n",
      "最初の候補日    : 2\n",
      "\n"
     ]
    }
   ],
   "source": [
    "# getsメソッドの代わり\n",
    "input_data1 = \"5 3\\n\"\n",
    "input_data2 = \"1 2 3 2 1\\n\"\n",
    "\n",
    "#input_data1 = \"10 2\\n\"\n",
    "#input_data2 = \"6 2 0 7 1 3 5 3 2 6\\n\"\n",
    "\n",
    "# データ入力\n",
    "log_count, campaign_days = input_data1.split.map(&:to_i)\n",
    "visitor_count = input_data2.split.map(&:to_i)\n",
    "\n",
    "# 区間平均を求める\n",
    "section_averages = []\n",
    "\n",
    "(0..log_count - campaign_days).each do |idx|\n",
    "  # fdiv メソッドを使うと浮動小数点の商が得られます。\n",
    "  section_averages << visitor_count[idx..idx + campaign_days - 1].sum.fdiv(campaign_days)\n",
    "  \n",
    "  # こう書くと、剰余が切り捨てられてしまいます。\n",
    "  # section_averages << visitor_count[idx..idx + campaign_days - 1].sum / campaign_days\n",
    "end\n",
    "\n",
    "# 最大平均を求める\n",
    "max_average = section_averages.max\n",
    "# 最大平均の数(キャンペーン候補)を求める\n",
    "candidate_count = section_averages.count(max_average)\n",
    "# キャンペーン最初の候補日を求める(index 0 が 1日目なので index + 1)\n",
    "first_day = section_averages.find_index {|average| average == max_average} + 1\n",
    "# 結果を出力\n",
    "puts \"#{candidate_count} #{first_day}\"\n",
    "\n",
    "# 結果確認\n",
    "puts <<~\"EOS\"\n",
    "--- input\n",
    "ログの数       : #{log_count}\n",
    "キャンペーン日数 : #{campaign_days}\n",
    "来客数         : #{visitor_count}\n",
    "--- output\n",
    "区間平均人数    : #{section_averages}\n",
    "最大平均       : #{max_average}\n",
    "最大平均の数    : #{candidate_count}\n",
    "最初の候補日    : #{first_day}\n",
    "EOS"
   ]
  },
  {
   "cell_type": "markdown",
   "metadata": {},
   "source": [
    "### 8. 回答を提出\n",
    "\n",
    "```gets``` メソッドを使用するコードに戻し、不要部分を削除してコピーし、paizaの解答欄に提出（ペースト）します。"
   ]
  },
  {
   "cell_type": "markdown",
   "metadata": {},
   "source": [
    "```ruby\n",
    "# データ入力\n",
    "log_count, campaign_days = gets.split.map(&:to_i)\n",
    "visitor_count = gets.split.map(&:to_i)\n",
    "\n",
    "# 区間平均を求める\n",
    "section_averages = []\n",
    "\n",
    "(0..log_count - campaign_days).each do |idx|\n",
    "  section_averages << visitor_count[idx..idx + campaign_days - 1].sum.fdiv(campaign_days)\n",
    "end\n",
    "\n",
    "# 最大平均を求める\n",
    "max_average = section_averages.max\n",
    "# 最大平均の数(キャンペーン候補)を求める\n",
    "candidate_count = section_averages.count(max_average)\n",
    "# キャンペーン最初の候補日を求める(index 0 が 1日目なので index + 1)\n",
    "first_day = section_averages.find_index {|average| average == max_average} + 1\n",
    "# 結果を出力\n",
    "puts \"#{candidate_count} #{first_day}\"\n",
    "```"
   ]
  },
  {
   "cell_type": "markdown",
   "metadata": {},
   "source": [
    "### 9. まとめ\n",
    "\n",
    "以上が問題提出までのざっくりとした流れとなります。（本番のスキルチェック問題も一緒の流れです。）\n",
    "\n",
    "標準入力のデータは、今回は2行だったので```gets``` で書きましたが、たくさん受け取る場合もあります。他の受け取り方については機会があればご紹介したいと思います。\n",
    "\n",
    "### 10. おまけ\n",
    "\n",
    "実はこの問題には[日別訪問者数の最大平均区間(large)](https://paiza.jp/works/mondai/skillcheck_archive/max_range_large)という続きがあります。\n",
    "\n",
    "とはいっても、与えられるデータログの数が ```1 ≦ n ≦ 1,000``` から ```1 ≦ n ≦ 300,000``` に変わるだけです。\n",
    "\n",
    "処理内容は一緒なので、このまま提出してみましょう！！\n",
    "\n",
    "どうなりました？\n",
    "\n",
    "---\n",
    "\n",
    "この結果が次の発表のネタとなります。\n",
    "\n",
    "今回の発表は以上です。ありがとうございました！"
   ]
  },
  {
   "cell_type": "code",
   "execution_count": null,
   "metadata": {},
   "outputs": [],
   "source": []
  }
 ],
 "metadata": {
  "kernelspec": {
   "display_name": "Ruby 2.6.6",
   "language": "ruby",
   "name": "ruby"
  },
  "language_info": {
   "file_extension": ".rb",
   "mimetype": "application/x-ruby",
   "name": "ruby",
   "version": "2.6.6"
  }
 },
 "nbformat": 4,
 "nbformat_minor": 2
}

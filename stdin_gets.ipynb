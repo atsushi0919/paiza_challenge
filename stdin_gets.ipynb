{
 "cells": [
  {
   "cell_type": "markdown",
   "id": "adapted-bouquet",
   "metadata": {},
   "source": [
    "# getsメソッドで標準入力を受け取る\n",
    "\n",
    "getsメソッドを実行すると、一旦プログラムが停止し、標準入力受け付け状態となります。  \n",
    "入力受け付け状態の時にキーボード入力を行い、エンターキーを押すと、```キーボード入力 + \\n(改行コード)``` が文字列オブジェクトで返されます。\n",
    "\n",
    "---\n",
    "\n",
    "## 1. 単体要素\n",
    "\n",
    "### データ例1: 文字列"
   ]
  },
  {
   "cell_type": "markdown",
   "id": "aboriginal-constitution",
   "metadata": {},
   "source": [
    "入力  \n",
    "```sample```\n",
    "\n",
    "---\n",
    "\n",
    "```ruby\n",
    "str_data = gets.chomp\n",
    "p str_data\n",
    "```\n",
    "---\n",
    "\n",
    "出力  \n",
    "```\"sample\"```"
   ]
  },
  {
   "cell_type": "markdown",
   "id": "enhanced-regulation",
   "metadata": {},
   "source": [
    "### データ例2: 整数"
   ]
  },
  {
   "cell_type": "markdown",
   "id": "respective-album",
   "metadata": {},
   "source": [
    "入力  \n",
    "```123```\n",
    "\n",
    "---\n",
    "\n",
    "```ruby\n",
    "int_data = gets.to_i\n",
    "p int_data\n",
    "```\n",
    "\n",
    "---\n",
    "\n",
    "出力  \n",
    "```123```\n",
    "\n"
   ]
  },
  {
   "cell_type": "markdown",
   "id": "surface-formation",
   "metadata": {},
   "source": [
    "## 2. 1行に複数の要素\n",
    "\n",
    "### データ例1: 文字列"
   ]
  },
  {
   "cell_type": "markdown",
   "id": "vocational-access",
   "metadata": {},
   "source": [
    "入力  \n",
    "```apple banana cherry```\n",
    "\n",
    "---\n",
    "\n",
    "```ruby\n",
    "# 個別に受け取る\n",
    "str_a, str_b, str_c = gets.chomp.split\n",
    "\n",
    "# 配列で受け取る\n",
    "str_array = gets.chomp.split\n",
    "\n",
    "p str_a\n",
    "p str_b\n",
    "p str_c\n",
    "p str_array\n",
    "```\n",
    "---\n",
    "\n",
    "出力  \n",
    "```\"apple\"```  \n",
    "```\"banana\"```  \n",
    "```\"cherry\"```  \n",
    "```[\"apple\", \"banana\", \"cherry\"]```"
   ]
  },
  {
   "cell_type": "markdown",
   "id": "above-creature",
   "metadata": {},
   "source": [
    "### データ例2: 整数"
   ]
  },
  {
   "cell_type": "markdown",
   "id": "medical-winter",
   "metadata": {},
   "source": [
    "入力  \n",
    "```12 34 56```\n",
    "\n",
    "---\n",
    "\n",
    "```ruby\n",
    "# 個別に受け取る\n",
    "int_x, int_y, int_z = gets.split.map(&:to_i)\n",
    "\n",
    "# 配列で受け取る\n",
    "int_array = gets.split.map(&:to_i)\n",
    "\n",
    "p int_x\n",
    "p int_y\n",
    "p int_z\n",
    "p int_array\n",
    "```\n",
    "\n",
    "---\n",
    "\n",
    "出力  \n",
    "```12```  \n",
    "```34```  \n",
    "```56```  \n",
    "```[12, 34, 56]```"
   ]
  },
  {
   "cell_type": "markdown",
   "id": "complex-forge",
   "metadata": {},
   "source": [
    "## 3. 1行目にデータ行数n、2行目からn行の要素\n",
    "\n",
    "### データ例1: 文字列"
   ]
  },
  {
   "cell_type": "markdown",
   "id": "animated-convergence",
   "metadata": {},
   "source": [
    "入力  \n",
    "```3```  \n",
    "```yanbaru```  \n",
    "```code```  \n",
    "```expart```  \n",
    "\n",
    "---\n",
    "\n",
    "```ruby\n",
    "# データの件数 n を受け取る\n",
    "n = gets.split.map(&:to_i)\n",
    "\n",
    "# n 件のデータを受け取る\n",
    "str_arr = []\n",
    "n.times { str_arr << gets.chomp }\n",
    "\n",
    "p str_arr\n",
    "```\n",
    "\n",
    "---\n",
    "\n",
    "出力  \n",
    "```[\"yanbaru\", \"code\", \"expert\"]```"
   ]
  },
  {
   "cell_type": "markdown",
   "id": "significant-attitude",
   "metadata": {},
   "source": [
    "## 4. 二次元配列の要素\n",
    "\n",
    "### データ例1: 文字列"
   ]
  },
  {
   "cell_type": "markdown",
   "id": "qualified-weapon",
   "metadata": {},
   "source": [
    "入力  \n",
    "```2 3```  \n",
    "```America Brazil China```  \n",
    "```Denmark England France```  \n",
    "\n",
    "---\n",
    "\n",
    "```ruby\n",
    "# 行h 幅(要素数)w を受け取る\n",
    "h, w = gets.split.map(&:to_i)\n",
    "\n",
    "# h 行分のデータを受け取る\n",
    "matrix = []\n",
    "h.times { matrix << gets.chomp.split }\n",
    "\n",
    "p matrix\n",
    "```\n",
    "\n",
    "---\n",
    "\n",
    "出力  \n",
    "```[[\"America\", \"Brazil\",  \"China\"], [\"Denmark\", \"England\", \"France\"]]```"
   ]
  },
  {
   "cell_type": "markdown",
   "id": "statistical-certificate",
   "metadata": {},
   "source": [
    "### データ例2: 整数"
   ]
  },
  {
   "cell_type": "markdown",
   "id": "interested-arnold",
   "metadata": {},
   "source": [
    "入力  \n",
    "```2 3```  \n",
    "```11 12 13```  \n",
    "```21 22 23```  \n",
    "\n",
    "```ruby\n",
    "# 行h 幅(要素数)w を受け取る\n",
    "h, w = gets.split.map(&:to_i)\n",
    "\n",
    "# h行分のデータを受け取る\n",
    "matrix = []\n",
    "h.times { matrix << gets.split.map(&:to_i) }\n",
    "\n",
    "p matrix\n",
    "```\n",
    "---\n",
    "\n",
    "出力  \n",
    "```[[11, 12, 13], [21, 22, 23]]```"
   ]
  },
  {
   "cell_type": "code",
   "execution_count": null,
   "id": "assured-family",
   "metadata": {},
   "outputs": [],
   "source": []
  }
 ],
 "metadata": {
  "kernelspec": {
   "display_name": "Ruby 2.7.2",
   "language": "ruby",
   "name": "ruby"
  },
  "language_info": {
   "file_extension": ".rb",
   "mimetype": "application/x-ruby",
   "name": "ruby",
   "version": "2.7.2"
  }
 },
 "nbformat": 4,
 "nbformat_minor": 5
}

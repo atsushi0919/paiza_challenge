{
 "cells": [
  {
   "cell_type": "markdown",
   "id": "adapted-bouquet",
   "metadata": {},
   "source": [
    "# 主な標準入力受け取りパターン\n",
    "\n",
    "---\n",
    "\n",
    "## 1. 単体要素\n",
    "\n",
    "### データ例1: 文字列"
   ]
  },
  {
   "cell_type": "code",
   "execution_count": 13,
   "id": "irish-czech",
   "metadata": {},
   "outputs": [
    {
     "name": "stdout",
     "output_type": "stream",
     "text": [
      "str_data: sample\n"
     ]
    }
   ],
   "source": [
    "input_data = \"sample\\n\"\n",
    "\n",
    "str_data = input_data.chomp\n",
    "\n",
    "puts \"str_data: #{str_data}\""
   ]
  },
  {
   "cell_type": "markdown",
   "id": "enhanced-regulation",
   "metadata": {},
   "source": [
    "### データ例2: 整数"
   ]
  },
  {
   "cell_type": "code",
   "execution_count": 12,
   "id": "cheap-filing",
   "metadata": {},
   "outputs": [
    {
     "name": "stdout",
     "output_type": "stream",
     "text": [
      "int_data: 123\n"
     ]
    }
   ],
   "source": [
    "input_data = \"123\\n\"\n",
    "\n",
    "int_data = input_data.to_i\n",
    "\n",
    "puts \"int_data: #{int_data}\""
   ]
  },
  {
   "cell_type": "markdown",
   "id": "surface-formation",
   "metadata": {},
   "source": [
    "## 2. 1行に複数の要素\n",
    "\n",
    "### データ例1: 文字列"
   ]
  },
  {
   "cell_type": "code",
   "execution_count": 14,
   "id": "clinical-reviewer",
   "metadata": {},
   "outputs": [
    {
     "name": "stdout",
     "output_type": "stream",
     "text": [
      "str_a: apple\n",
      "str_b: banana\n",
      "str_c: cherry\n",
      "\n",
      "str_array: [\"apple\", \"banana\", \"cherry\"]\n",
      "\n"
     ]
    }
   ],
   "source": [
    "input_data = \"apple banana cherry\\n\"\n",
    "\n",
    "# 個別に受け取る\n",
    "str_a, str_b, str_c = input_data.chomp.split\n",
    "\n",
    "# 配列で受け取る\n",
    "str_array = input_data.chomp.split\n",
    "\n",
    "puts <<~\"EOS\"\n",
    "  str_a: #{str_a}\n",
    "  str_b: #{str_b}\n",
    "  str_c: #{str_c}\n",
    "  \n",
    "  str_array: #{str_arr}\n",
    "EOS"
   ]
  },
  {
   "cell_type": "markdown",
   "id": "above-creature",
   "metadata": {},
   "source": [
    "### データ例2: 整数"
   ]
  },
  {
   "cell_type": "code",
   "execution_count": 16,
   "id": "hundred-contest",
   "metadata": {},
   "outputs": [
    {
     "name": "stdout",
     "output_type": "stream",
     "text": [
      "int_x: 12\n",
      "int_y: 34\n",
      "int_z: 56\n",
      "\n",
      "int_array: [12, 34, 56]\n",
      "\n"
     ]
    }
   ],
   "source": [
    "input_data = \"12 34 56\\n\"\n",
    "\n",
    "# 個別に受け取る\n",
    "int_x, int_y, int_z = input_data.split.map(&:to_i)\n",
    "\n",
    "# 配列で受け取る\n",
    "int_arr = input_data.split.map(&:to_i)\n",
    "\n",
    "puts <<~\"EOS\"\n",
    "  int_x: #{int_x}\n",
    "  int_y: #{int_y}\n",
    "  int_z: #{int_z}\n",
    "  \n",
    "  int_array: #{int_arr}\n",
    "EOS"
   ]
  },
  {
   "cell_type": "markdown",
   "id": "complex-forge",
   "metadata": {},
   "source": [
    "## 3. 1行目にデータ行数n、2行目からn行の要素\n",
    "\n",
    "### データ例1: 文字列"
   ]
  },
  {
   "cell_type": "code",
   "execution_count": null,
   "id": "invalid-boulder",
   "metadata": {},
   "outputs": [],
   "source": []
  },
  {
   "cell_type": "code",
   "execution_count": null,
   "id": "norwegian-petite",
   "metadata": {},
   "outputs": [],
   "source": []
  },
  {
   "cell_type": "code",
   "execution_count": null,
   "id": "adult-reminder",
   "metadata": {},
   "outputs": [],
   "source": [
    "---\n",
    "\n",
    "\n",
    "```3\\n```\n",
    "```yanbaru\\n```\n",
    "```code\\n```\n",
    "```expert\\n```\n",
    "\n",
    "### データ例2 整数\n",
    "\n",
    "```\n",
    "n = gets.to_i\n",
    "str_arr = []\n",
    "n.times { str_arr << gets.chomp } \n",
    "```\n",
    "\n",
    "### データ例2 整数\n",
    "\n",
    "```3\\n```\n",
    "```111\\n```\n",
    "```222\\n```\n",
    "```333\\n```\n",
    "\n",
    "```\n",
    "n = gets.to_i\n",
    "int_arr = []\n",
    "n.times { int_arr << gets.to_i } \n",
    "```\n",
    "\n",
    "---\n",
    "\n",
    "## 4. 二次元配列の要素\n",
    "\n",
    "### データ例1 文字列\n",
    "\n",
    "```2 3\\n```\n",
    "```America Brazil China\\n```\n",
    "```Denmark England France\\n```\n",
    "\n",
    "```\n",
    "h, w = gets.split.map(&:to_i)\n",
    "matrix = []\n",
    "h.times { matrix << gets.chomp.split }\n",
    "```\n",
    "\n",
    "### データ例2 整数\n",
    "\n",
    "```2 3\\n```\n",
    "```11 12 13\\n```\n",
    "```21 22 23\\n```\n",
    "\n",
    "```\n",
    "h, w = gets.split.map(&:to_i)\n",
    "matrix = []\n",
    "h.times { matrix << gets.split.map(&:to_i) }\n",
    "```\n"
   ]
  }
 ],
 "metadata": {
  "kernelspec": {
   "display_name": "Ruby 2.7.2",
   "language": "ruby",
   "name": "ruby"
  },
  "language_info": {
   "file_extension": ".rb",
   "mimetype": "application/x-ruby",
   "name": "ruby",
   "version": "2.7.2"
  }
 },
 "nbformat": 4,
 "nbformat_minor": 5
}
